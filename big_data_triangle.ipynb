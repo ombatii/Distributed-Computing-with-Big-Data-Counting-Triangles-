{
  "cells": [
    {
      "cell_type": "code",
      "execution_count": 1,
      "metadata": {
        "execution": {
          "iopub.execute_input": "2023-09-24T10:13:45.136296Z",
          "iopub.status.busy": "2023-09-24T10:13:45.135744Z",
          "iopub.status.idle": "2023-09-24T10:13:58.291854Z",
          "shell.execute_reply": "2023-09-24T10:13:58.290386Z",
          "shell.execute_reply.started": "2023-09-24T10:13:45.136260Z"
        },
        "id": "HkWAsw_nqyxc",
        "colab": {
          "base_uri": "https://localhost:8080/"
        },
        "outputId": "5914c5ce-d5d7-4069-85ea-0086eb327696"
      },
      "outputs": [
        {
          "output_type": "stream",
          "name": "stdout",
          "text": [
            "Collecting pyspark\n",
            "  Downloading pyspark-3.4.1.tar.gz (310.8 MB)\n",
            "\u001b[2K     \u001b[90m━━━━━━━━━━━━━━━━━━━━━━━━━━━━━━━━━━━━━━━\u001b[0m \u001b[32m310.8/310.8 MB\u001b[0m \u001b[31m4.3 MB/s\u001b[0m eta \u001b[36m0:00:00\u001b[0m\n",
            "\u001b[?25h  Preparing metadata (setup.py) ... \u001b[?25l\u001b[?25hdone\n",
            "Requirement already satisfied: py4j==0.10.9.7 in /usr/local/lib/python3.10/dist-packages (from pyspark) (0.10.9.7)\n",
            "Building wheels for collected packages: pyspark\n",
            "  Building wheel for pyspark (setup.py) ... \u001b[?25l\u001b[?25hdone\n",
            "  Created wheel for pyspark: filename=pyspark-3.4.1-py2.py3-none-any.whl size=311285387 sha256=a7f3c3fe1bb1e4ecfef44a81ec1e89a639ad91947b60a18a97685022b50cad90\n",
            "  Stored in directory: /root/.cache/pip/wheels/0d/77/a3/ff2f74cc9ab41f8f594dabf0579c2a7c6de920d584206e0834\n",
            "Successfully built pyspark\n",
            "Installing collected packages: pyspark\n",
            "Successfully installed pyspark-3.4.1\n"
          ]
        }
      ],
      "source": [
        "!pip install pyspark"
      ]
    },
    {
      "cell_type": "markdown",
      "metadata": {
        "id": "CmEuHeGcxiNd"
      },
      "source": [
        "##  Imports the SparkContext class from the PySpark library"
      ]
    },
    {
      "cell_type": "code",
      "execution_count": 2,
      "metadata": {
        "execution": {
          "iopub.execute_input": "2023-09-24T10:18:09.799711Z",
          "iopub.status.busy": "2023-09-24T10:18:09.799278Z",
          "iopub.status.idle": "2023-09-24T10:18:09.805489Z",
          "shell.execute_reply": "2023-09-24T10:18:09.804144Z",
          "shell.execute_reply.started": "2023-09-24T10:18:09.799683Z"
        },
        "id": "0Ot9VWbOrDTL"
      },
      "outputs": [],
      "source": [
        "from pyspark import SparkContext"
      ]
    },
    {
      "cell_type": "markdown",
      "metadata": {
        "id": "IfSRnZZpx1mt"
      },
      "source": [
        "## Initialize SparkContext"
      ]
    },
    {
      "cell_type": "code",
      "execution_count": 3,
      "metadata": {
        "execution": {
          "iopub.execute_input": "2023-09-24T10:30:20.545505Z",
          "iopub.status.busy": "2023-09-24T10:30:20.545129Z",
          "iopub.status.idle": "2023-09-24T10:30:20.605177Z",
          "shell.execute_reply": "2023-09-24T10:30:20.603717Z",
          "shell.execute_reply.started": "2023-09-24T10:30:20.545477Z"
        },
        "id": "zIvJtH6SrQuo"
      },
      "outputs": [],
      "source": [
        "sc = SparkContext(\"local\", \"TriangleCount\")"
      ]
    },
    {
      "cell_type": "markdown",
      "metadata": {
        "id": "zAWAvtKlyHpR"
      },
      "source": [
        "## The sample data"
      ]
    },
    {
      "cell_type": "code",
      "execution_count": 4,
      "metadata": {
        "colab": {
          "base_uri": "https://localhost:8080/"
        },
        "execution": {
          "iopub.execute_input": "2023-09-24T10:18:28.100957Z",
          "iopub.status.busy": "2023-09-24T10:18:28.100595Z",
          "iopub.status.idle": "2023-09-24T10:18:28.109146Z",
          "shell.execute_reply": "2023-09-24T10:18:28.108149Z",
          "shell.execute_reply.started": "2023-09-24T10:18:28.100932Z"
        },
        "id": "OY43qgjnrQxO",
        "outputId": "00a82333-aae3-4cbe-efee-04814621edc2"
      },
      "outputs": [
        {
          "output_type": "execute_result",
          "data": {
            "text/plain": [
              "[(0, 1), (0, 2), (1, 2), (1, 3), (2, 3), (0, 3)]"
            ]
          },
          "metadata": {},
          "execution_count": 4
        }
      ],
      "source": [
        "sample_data = [\n",
        "    (0, 1),\n",
        "    (0, 2),\n",
        "    (1, 2),\n",
        "    (1, 3),\n",
        "    (2, 3),\n",
        "    (0, 3)\n",
        "]\n",
        "\n",
        "sample_data"
      ]
    },
    {
      "cell_type": "markdown",
      "metadata": {
        "id": "tL-lXd35yOvW"
      },
      "source": [
        "## Create an RDD from the sample data"
      ]
    },
    {
      "cell_type": "code",
      "execution_count": 5,
      "metadata": {
        "execution": {
          "iopub.execute_input": "2023-09-24T10:30:36.114721Z",
          "iopub.status.busy": "2023-09-24T10:30:36.114345Z",
          "iopub.status.idle": "2023-09-24T10:30:36.182631Z",
          "shell.execute_reply": "2023-09-24T10:30:36.181633Z",
          "shell.execute_reply.started": "2023-09-24T10:30:36.114694Z"
        },
        "id": "9FkNcBGorQzh",
        "colab": {
          "base_uri": "https://localhost:8080/"
        },
        "outputId": "438deaf9-6b32-42c7-ec55-7abc38700704"
      },
      "outputs": [
        {
          "output_type": "stream",
          "name": "stdout",
          "text": [
            "[(0, 1), (0, 2), (1, 2), (1, 3), (2, 3), (0, 3)]\n"
          ]
        }
      ],
      "source": [
        "edges = sc.parallelize(sample_data)\n",
        "print(edges.collect())"
      ]
    },
    {
      "cell_type": "markdown",
      "metadata": {
        "id": "nklsBG_nyRhd"
      },
      "source": [
        "## Create an RDD of unique nodes"
      ]
    },
    {
      "cell_type": "code",
      "execution_count": 6,
      "metadata": {
        "colab": {
          "base_uri": "https://localhost:8080/"
        },
        "execution": {
          "iopub.execute_input": "2023-09-24T10:30:38.221023Z",
          "iopub.status.busy": "2023-09-24T10:30:38.220671Z",
          "iopub.status.idle": "2023-09-24T10:30:38.648640Z",
          "shell.execute_reply": "2023-09-24T10:30:38.647635Z",
          "shell.execute_reply.started": "2023-09-24T10:30:38.220991Z"
        },
        "id": "XC54qqE6rQ2Z",
        "outputId": "e9231343-6536-4e76-bae6-a272776967be"
      },
      "outputs": [
        {
          "output_type": "stream",
          "name": "stdout",
          "text": [
            "[0, 1, 2, 3]\n"
          ]
        }
      ],
      "source": [
        "nodes = edges.flatMap(lambda edge: [edge[0], edge[1]]).distinct()\n",
        "nodes\n",
        "# Print the unique nodes\n",
        "print(nodes.collect())"
      ]
    },
    {
      "cell_type": "markdown",
      "metadata": {
        "id": "GInYUp38ypqg"
      },
      "source": [
        "## Generate an RDD containing pairs of nodes and their respective neighbors"
      ]
    },
    {
      "cell_type": "code",
      "execution_count": 7,
      "metadata": {
        "colab": {
          "base_uri": "https://localhost:8080/"
        },
        "execution": {
          "iopub.execute_input": "2023-09-24T10:30:43.628922Z",
          "iopub.status.busy": "2023-09-24T10:30:43.627769Z",
          "iopub.status.idle": "2023-09-24T10:30:43.836541Z",
          "shell.execute_reply": "2023-09-24T10:30:43.834872Z",
          "shell.execute_reply.started": "2023-09-24T10:30:43.628886Z"
        },
        "id": "8ZoEO1LtrQ7e",
        "outputId": "a7d76997-9576-46eb-afd9-f0d1d03d2c57"
      },
      "outputs": [
        {
          "output_type": "stream",
          "name": "stdout",
          "text": [
            "[(0, 1), (1, 0), (0, 2), (2, 0), (1, 2), (2, 1), (1, 3), (3, 1), (2, 3), (3, 2), (0, 3), (3, 0)]\n"
          ]
        }
      ],
      "source": [
        "neighbors = edges.flatMap(lambda edge: [(edge[0], edge[1]), (edge[1], edge[0])])\n",
        "neighbors\n",
        "# Print the pairs of nodes and their respective neighbors\n",
        "print(neighbors.collect())"
      ]
    },
    {
      "cell_type": "markdown",
      "metadata": {
        "id": "Lho86j-mzGj7"
      },
      "source": [
        "## Generate an RDD containing pairs in the format ((u, v), w) with the condition that u is less than v."
      ]
    },
    {
      "cell_type": "code",
      "execution_count": 8,
      "metadata": {
        "colab": {
          "base_uri": "https://localhost:8080/"
        },
        "execution": {
          "iopub.execute_input": "2023-09-24T10:30:47.755677Z",
          "iopub.status.busy": "2023-09-24T10:30:47.755285Z",
          "iopub.status.idle": "2023-09-24T10:30:47.769972Z",
          "shell.execute_reply": "2023-09-24T10:30:47.768847Z",
          "shell.execute_reply.started": "2023-09-24T10:30:47.755646Z"
        },
        "id": "la7wFl1WrQ95",
        "outputId": "676342df-f79f-4fde-a603-4b978b87511f"
      },
      "outputs": [
        {
          "output_type": "execute_result",
          "data": {
            "text/plain": [
              "PythonRDD[7] at RDD at PythonRDD.scala:53"
            ]
          },
          "metadata": {},
          "execution_count": 8
        }
      ],
      "source": [
        "edge_pairs = neighbors.map(lambda x: ((min(x[0], x[1]), max(x[0], x[1])), None))\n",
        "edge_pairs\n"
      ]
    },
    {
      "cell_type": "markdown",
      "metadata": {
        "id": "Iq-ttUanzbLr"
      },
      "source": [
        "## Group the edge pairs by key"
      ]
    },
    {
      "cell_type": "code",
      "execution_count": 9,
      "metadata": {
        "colab": {
          "base_uri": "https://localhost:8080/"
        },
        "execution": {
          "iopub.execute_input": "2023-09-24T10:30:54.798760Z",
          "iopub.status.busy": "2023-09-24T10:30:54.798358Z",
          "iopub.status.idle": "2023-09-24T10:30:54.828778Z",
          "shell.execute_reply": "2023-09-24T10:30:54.827590Z",
          "shell.execute_reply.started": "2023-09-24T10:30:54.798730Z"
        },
        "id": "q--TUjnbrQ_7",
        "outputId": "fea20eac-8e9d-471c-a34c-5d08ee53278e"
      },
      "outputs": [
        {
          "output_type": "execute_result",
          "data": {
            "text/plain": [
              "PythonRDD[12] at RDD at PythonRDD.scala:53"
            ]
          },
          "metadata": {},
          "execution_count": 9
        }
      ],
      "source": [
        "grouped_edges = edge_pairs.groupByKey()\n",
        "grouped_edges\n"
      ]
    },
    {
      "cell_type": "markdown",
      "metadata": {
        "id": "lSTR5q_ctnvA"
      },
      "source": [
        "## Define a function to count triangles and collect nodes"
      ]
    },
    {
      "cell_type": "code",
      "execution_count": 10,
      "metadata": {
        "execution": {
          "iopub.execute_input": "2023-09-24T10:31:00.051117Z",
          "iopub.status.busy": "2023-09-24T10:31:00.050647Z",
          "iopub.status.idle": "2023-09-24T10:31:00.059120Z",
          "shell.execute_reply": "2023-09-24T10:31:00.057943Z",
          "shell.execute_reply.started": "2023-09-24T10:31:00.051059Z"
        },
        "id": "LdwVk1kmrRCi"
      },
      "outputs": [],
      "source": [
        "def count_triangles(edge_item):\n",
        "    ((node1, node2), neighbor_values) = edge_item\n",
        "    neighbor_values_list = list(neighbor_values)\n",
        "    unconnected_neighbors_count = neighbor_values_list.count(None)\n",
        "\n",
        "    # Calculate the number of triangles involving this edge\n",
        "    triangles_count = (unconnected_neighbors_count * (unconnected_neighbors_count - 1)) // 2\n",
        "\n",
        "    # Determine the nodes participating in this triangle\n",
        "    triangle_nodes = set([node1, node2])\n",
        "    return triangles_count, triangle_nodes\n",
        "\n"
      ]
    },
    {
      "cell_type": "markdown",
      "metadata": {
        "id": "Pa_6Bng80G5G"
      },
      "source": [
        "## Calculate triangles and collect nodes for each edge"
      ]
    },
    {
      "cell_type": "code",
      "execution_count": 11,
      "metadata": {
        "colab": {
          "base_uri": "https://localhost:8080/"
        },
        "execution": {
          "iopub.execute_input": "2023-09-24T10:31:03.746485Z",
          "iopub.status.busy": "2023-09-24T10:31:03.745806Z",
          "iopub.status.idle": "2023-09-24T10:31:04.195597Z",
          "shell.execute_reply": "2023-09-24T10:31:04.194355Z",
          "shell.execute_reply.started": "2023-09-24T10:31:03.746451Z"
        },
        "id": "6qln44earRGL",
        "outputId": "c4c23fd7-70eb-4681-ab1d-bf8f5cd27997"
      },
      "outputs": [
        {
          "output_type": "stream",
          "name": "stdout",
          "text": [
            "Triangles Count: 1\n",
            "Triangle Nodes: {0, 1}\n",
            "\n",
            "Triangles Count: 1\n",
            "Triangle Nodes: {0, 2}\n",
            "\n",
            "Triangles Count: 1\n",
            "Triangle Nodes: {1, 2}\n",
            "\n",
            "Triangles Count: 1\n",
            "Triangle Nodes: {1, 3}\n",
            "\n",
            "Triangles Count: 1\n",
            "Triangle Nodes: {2, 3}\n",
            "\n",
            "Triangles Count: 1\n",
            "Triangle Nodes: {0, 3}\n",
            "\n"
          ]
        }
      ],
      "source": [
        "triangle_node_counts = grouped_edges.map(lambda item: count_triangles(item))\n",
        "triangle_node_counts\n",
        "# Print the expected results\n",
        "for triangles, nodes in triangle_node_counts.collect():\n",
        "    print(f\"Triangles Count: {triangles}\")\n",
        "    print(f\"Triangle Nodes: {nodes}\\n\")"
      ]
    },
    {
      "cell_type": "markdown",
      "metadata": {
        "id": "nebslDWk04l5"
      },
      "source": [
        "## Calculate the total number of triangles"
      ]
    },
    {
      "cell_type": "code",
      "execution_count": 12,
      "metadata": {
        "execution": {
          "iopub.execute_input": "2023-09-24T10:31:16.684086Z",
          "iopub.status.busy": "2023-09-24T10:31:16.683648Z",
          "iopub.status.idle": "2023-09-24T10:31:16.927544Z",
          "shell.execute_reply": "2023-09-24T10:31:16.926733Z",
          "shell.execute_reply.started": "2023-09-24T10:31:16.684041Z"
        },
        "id": "D1XqkelzrRHv",
        "colab": {
          "base_uri": "https://localhost:8080/"
        },
        "outputId": "2133aa03-24f5-46e6-d6d9-33a4ae6fdfc7"
      },
      "outputs": [
        {
          "output_type": "stream",
          "name": "stdout",
          "text": [
            "The total number of triangles in the graph is: 6\n"
          ]
        }
      ],
      "source": [
        "total_triangles = triangle_node_counts.map(lambda x: x[0]).sum()\n",
        "# Print the total number of triangles\n",
        "print(f\"The total number of triangles in the graph is: {total_triangles}\")"
      ]
    },
    {
      "cell_type": "markdown",
      "metadata": {
        "id": "g-Hi4qyn1AmZ"
      },
      "source": [
        "## Calculate the average nodes involved in triangles for each node"
      ]
    },
    {
      "cell_type": "code",
      "execution_count": 13,
      "metadata": {
        "execution": {
          "iopub.execute_input": "2023-09-24T10:31:22.142101Z",
          "iopub.status.busy": "2023-09-24T10:31:22.141662Z",
          "iopub.status.idle": "2023-09-24T10:31:22.603840Z",
          "shell.execute_reply": "2023-09-24T10:31:22.602783Z",
          "shell.execute_reply.started": "2023-09-24T10:31:22.142050Z"
        },
        "id": "mYMwRKXUrRJY",
        "colab": {
          "base_uri": "https://localhost:8080/"
        },
        "outputId": "7faaeeeb-eaeb-4aa4-88a9-22b826254143"
      },
      "outputs": [
        {
          "output_type": "stream",
          "name": "stdout",
          "text": [
            "Average nodes involved in triangles for each node:\n",
            "Node 0: 0.5\n",
            "Node 1: 0.5\n",
            "Node 2: 0.5\n",
            "Node 3: 0.5\n"
          ]
        }
      ],
      "source": [
        "average_nodes = triangle_node_counts.flatMap(lambda x: [(node, 1) for node in x[1]]) \\\n",
        "    .reduceByKey(lambda a, b: a + b) \\\n",
        "    .map(lambda x: (x[0], x[1] / total_triangles))\n",
        "\n",
        "# Print the average nodes involved in triangles for each node\n",
        "print(\"Average nodes involved in triangles for each node:\")\n",
        "for node, average in average_nodes.collect():\n",
        "    print(f\"Node {node}: {average}\")"
      ]
    },
    {
      "cell_type": "markdown",
      "metadata": {
        "id": "RXQ_X-kC1LG_"
      },
      "source": [
        "## Print the total number of triangles"
      ]
    },
    {
      "cell_type": "code",
      "execution_count": 14,
      "metadata": {
        "colab": {
          "base_uri": "https://localhost:8080/"
        },
        "execution": {
          "iopub.execute_input": "2023-09-24T10:31:27.546789Z",
          "iopub.status.busy": "2023-09-24T10:31:27.546353Z",
          "iopub.status.idle": "2023-09-24T10:31:27.553688Z",
          "shell.execute_reply": "2023-09-24T10:31:27.552019Z",
          "shell.execute_reply.started": "2023-09-24T10:31:27.546760Z"
        },
        "id": "pG_nugtQsp0D",
        "outputId": "770d4096-122d-4bc8-bf16-935103219efb"
      },
      "outputs": [
        {
          "output_type": "stream",
          "name": "stdout",
          "text": [
            "The triangle count of the graph is: 2\n"
          ]
        }
      ],
      "source": [
        "print(f\"The triangle count of the graph is: {total_triangles // 3}\")"
      ]
    },
    {
      "cell_type": "markdown",
      "metadata": {
        "id": "b_He-V8J1iUu"
      },
      "source": [
        "## Print the average nodes involved in triangles for each node"
      ]
    },
    {
      "cell_type": "code",
      "execution_count": 15,
      "metadata": {
        "colab": {
          "base_uri": "https://localhost:8080/"
        },
        "execution": {
          "iopub.execute_input": "2023-09-24T10:31:32.313883Z",
          "iopub.status.busy": "2023-09-24T10:31:32.312632Z",
          "iopub.status.idle": "2023-09-24T10:31:32.551528Z",
          "shell.execute_reply": "2023-09-24T10:31:32.550285Z",
          "shell.execute_reply.started": "2023-09-24T10:31:32.313835Z"
        },
        "id": "YZFiijI1sp28",
        "outputId": "1c444c1f-5750-4ce5-e4ae-0471b5274c8c"
      },
      "outputs": [
        {
          "output_type": "stream",
          "name": "stdout",
          "text": [
            "The average number of nodes that are involved in triangles for each node in the graph is :\n"
          ]
        },
        {
          "output_type": "execute_result",
          "data": {
            "text/plain": [
              "[(0, 0.5), (1, 0.5), (2, 0.5), (3, 0.5)]"
            ]
          },
          "metadata": {},
          "execution_count": 15
        }
      ],
      "source": [
        "print(\"The average number of nodes that are involved in triangles for each node in the graph is :\")\n",
        "average_nodes.collect()"
      ]
    },
    {
      "cell_type": "markdown",
      "metadata": {
        "id": "aYcLCAKR10y7"
      },
      "source": [
        "## Test in a sample input file(few-edges.txt)"
      ]
    },
    {
      "cell_type": "code",
      "execution_count": 18,
      "metadata": {
        "execution": {
          "iopub.execute_input": "2023-09-24T10:31:37.003183Z",
          "iopub.status.busy": "2023-09-24T10:31:37.002761Z",
          "iopub.status.idle": "2023-09-24T10:31:37.640421Z",
          "shell.execute_reply": "2023-09-24T10:31:37.639144Z",
          "shell.execute_reply.started": "2023-09-24T10:31:37.003153Z"
        },
        "id": "A5x656r5sp5g",
        "colab": {
          "base_uri": "https://localhost:8080/"
        },
        "outputId": "ce65e08b-9dba-4b6d-b63d-2ce0a875c320"
      },
      "outputs": [
        {
          "output_type": "stream",
          "name": "stdout",
          "text": [
            "Results for the 'few-edges.txt' dataset:\n",
            "Edge: {0, 1} - Triangles Count: 1\n",
            "Edge: {0, 2} - Triangles Count: 1\n",
            "Edge: {0, 3} - Triangles Count: 1\n",
            "Edge: {1, 3} - Triangles Count: 1\n",
            "Edge: {2, 6} - Triangles Count: 1\n",
            "Edge: {2, 5} - Triangles Count: 1\n",
            "Edge: {5, 6} - Triangles Count: 1\n",
            "Edge: {4, 6} - Triangles Count: 1\n",
            "Edge: {4, 5} - Triangles Count: 1\n",
            "Edge: {8, 7} - Triangles Count: 1\n",
            "Edge: {9, 7} - Triangles Count: 1\n",
            "Edge: {10, 7} - Triangles Count: 1\n",
            "Edge: {8, 10} - Triangles Count: 1\n",
            "Edge: {9, 13} - Triangles Count: 1\n",
            "Edge: {9, 12} - Triangles Count: 1\n",
            "Edge: {12, 13} - Triangles Count: 1\n",
            "Edge: {11, 13} - Triangles Count: 1\n",
            "Edge: {11, 12} - Triangles Count: 1\n"
          ]
        }
      ],
      "source": [
        "few_edges = sc.textFile(\"/content/drive/MyDrive/few-edges.txt\")\n",
        "few_edges_data = few_edges.map(lambda line: tuple(map(int, line.strip().split(' '))))\n",
        "few_edges_triangle_node_counts = few_edges_data.flatMap(lambda edge: [((min(edge[0], edge[1]), max(edge[0], edge[1])), None)]) \\\n",
        "    .groupByKey().map(lambda item: count_triangles(item))\n",
        "# Print the results for the sample input file\n",
        "print(\"Results for the 'few-edges.txt' dataset:\")\n",
        "for triangles, nodes in few_edges_triangle_node_counts.collect():\n",
        "    print(f\"Edge: {nodes} - Triangles Count: {triangles}\")"
      ]
    },
    {
      "cell_type": "markdown",
      "metadata": {
        "id": "eMxsUY6m2F1r"
      },
      "source": [
        "## Calculate the total number of triangles"
      ]
    },
    {
      "cell_type": "code",
      "execution_count": 19,
      "metadata": {
        "execution": {
          "iopub.execute_input": "2023-09-24T10:31:42.250810Z",
          "iopub.status.busy": "2023-09-24T10:31:42.250404Z",
          "iopub.status.idle": "2023-09-24T10:31:42.461103Z",
          "shell.execute_reply": "2023-09-24T10:31:42.459969Z",
          "shell.execute_reply.started": "2023-09-24T10:31:42.250782Z"
        },
        "id": "uu_UkaAYsp8V"
      },
      "outputs": [],
      "source": [
        "few_edges_total_triangles = few_edges_triangle_node_counts.map(lambda x: x[0]).sum()"
      ]
    },
    {
      "cell_type": "markdown",
      "metadata": {
        "id": "gYjAqDSj2Mzz"
      },
      "source": [
        "## Calculate the average nodes involved in triangles for each node"
      ]
    },
    {
      "cell_type": "code",
      "execution_count": 20,
      "metadata": {
        "execution": {
          "iopub.execute_input": "2023-09-24T10:31:52.162958Z",
          "iopub.status.busy": "2023-09-24T10:31:52.162556Z",
          "iopub.status.idle": "2023-09-24T10:31:52.182635Z",
          "shell.execute_reply": "2023-09-24T10:31:52.181842Z",
          "shell.execute_reply.started": "2023-09-24T10:31:52.162931Z"
        },
        "id": "GRZSuuuSrRML"
      },
      "outputs": [],
      "source": [
        "few_edges_average_nodes = few_edges_triangle_node_counts.flatMap(lambda x: [(node, 1) for node in x[1]]) \\\n",
        "    .reduceByKey(lambda a, b: a + b) \\\n",
        "    .map(lambda x: (x[0], x[1] / few_edges_total_triangles))\n"
      ]
    },
    {
      "cell_type": "markdown",
      "metadata": {
        "id": "TA92UejD2ReG"
      },
      "source": [
        "## Print the total number of triangles"
      ]
    },
    {
      "cell_type": "code",
      "execution_count": 21,
      "metadata": {
        "colab": {
          "base_uri": "https://localhost:8080/"
        },
        "execution": {
          "iopub.execute_input": "2023-09-24T10:31:57.232140Z",
          "iopub.status.busy": "2023-09-24T10:31:57.231740Z",
          "iopub.status.idle": "2023-09-24T10:31:57.237543Z",
          "shell.execute_reply": "2023-09-24T10:31:57.236519Z",
          "shell.execute_reply.started": "2023-09-24T10:31:57.232104Z"
        },
        "id": "G3rKJvj6s2WJ",
        "outputId": "7c7f675d-789f-4fbd-eb99-4b2f7049e6d6"
      },
      "outputs": [
        {
          "output_type": "stream",
          "name": "stdout",
          "text": [
            "The number of triangles in the 'few-edges.txt' graph is: 6\n"
          ]
        }
      ],
      "source": [
        "print(f\"The number of triangles in the 'few-edges.txt' graph is: {few_edges_total_triangles // 3}\")"
      ]
    },
    {
      "cell_type": "markdown",
      "metadata": {
        "id": "dyxM7t0b2nIT"
      },
      "source": [
        "## Print the average nodes involved in triangles for each node"
      ]
    },
    {
      "cell_type": "code",
      "execution_count": 22,
      "metadata": {
        "colab": {
          "base_uri": "https://localhost:8080/"
        },
        "execution": {
          "iopub.execute_input": "2023-09-24T10:30:10.553962Z",
          "iopub.status.busy": "2023-09-24T10:30:10.553047Z",
          "iopub.status.idle": "2023-09-24T10:30:10.776260Z",
          "shell.execute_reply": "2023-09-24T10:30:10.775217Z",
          "shell.execute_reply.started": "2023-09-24T10:30:10.553908Z"
        },
        "id": "TgaHixMJs2Yv",
        "outputId": "f7d7996d-6d05-449d-d856-2b81a1252795"
      },
      "outputs": [
        {
          "output_type": "stream",
          "name": "stdout",
          "text": [
            "The average number of nodes that each node shares a triangle with:\n"
          ]
        },
        {
          "output_type": "execute_result",
          "data": {
            "text/plain": [
              "[(0, 0.16666666666666666),\n",
              " (1, 0.1111111111111111),\n",
              " (2, 0.16666666666666666),\n",
              " (3, 0.1111111111111111),\n",
              " (6, 0.16666666666666666),\n",
              " (5, 0.16666666666666666),\n",
              " (4, 0.1111111111111111),\n",
              " (8, 0.1111111111111111),\n",
              " (7, 0.16666666666666666),\n",
              " (9, 0.16666666666666666),\n",
              " (10, 0.1111111111111111),\n",
              " (13, 0.16666666666666666),\n",
              " (12, 0.16666666666666666),\n",
              " (11, 0.1111111111111111)]"
            ]
          },
          "metadata": {},
          "execution_count": 22
        }
      ],
      "source": [
        "print(\"The average number of nodes that each node shares a triangle with:\")\n",
        "few_edges_average_nodes.collect()\n"
      ]
    },
    {
      "cell_type": "code",
      "execution_count": 23,
      "metadata": {
        "execution": {
          "iopub.execute_input": "2023-09-24T10:47:23.297364Z",
          "iopub.status.busy": "2023-09-24T10:47:23.296210Z",
          "iopub.status.idle": "2023-09-24T10:47:23.511145Z",
          "shell.execute_reply": "2023-09-24T10:47:23.509766Z",
          "shell.execute_reply.started": "2023-09-24T10:47:23.297328Z"
        },
        "id": "O15hcHkGs2bl"
      },
      "outputs": [],
      "source": [
        "# terminate the Spark application\n",
        "sc.stop()"
      ]
    }
  ],
  "metadata": {
    "accelerator": "GPU",
    "colab": {
      "gpuType": "T4",
      "provenance": []
    },
    "kernelspec": {
      "display_name": "Python 3 (ipykernel)",
      "language": "python",
      "name": "python3"
    },
    "language_info": {
      "codemirror_mode": {
        "name": "ipython",
        "version": 3
      },
      "file_extension": ".py",
      "mimetype": "text/x-python",
      "name": "python",
      "nbconvert_exporter": "python",
      "pygments_lexer": "ipython3",
      "version": "3.9.12"
    }
  },
  "nbformat": 4,
  "nbformat_minor": 0
}